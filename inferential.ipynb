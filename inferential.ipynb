{
 "cells": [
  {
   "cell_type": "markdown",
   "metadata": {},
   "source": [
    "# Inferential Statistics"
   ]
  },
  {
   "cell_type": "code",
   "execution_count": 16,
   "metadata": {},
   "outputs": [],
   "source": [
    "import pandas as pd\n",
    "import math\n",
    "import matplotlib.pyplot as plt\n",
    "import numpy as np\n",
    "import seaborn as sns\n",
    "import networkx as nx\n",
    "from sklearn.manifold import TSNE\n",
    "from sklearn.decomposition import PCA\n",
    "from sklearn.preprocessing import StandardScaler\n",
    "from sklearn.cluster import DBSCAN\n",
    "from imblearn.over_sampling import SMOTE\n",
    "from collections import Counter\n",
    "from scipy.stats import chi2_contingency\n",
    "from statsmodels.stats.proportion import proportion_confint\n",
    "import statsmodels.api as sm\n",
    "\n",
    "\n",
    "file_path = '/Users/rakibul/Desktop/uni koblenz/winter 202324/Research Lab/code/models/dataset.csv'\n",
    "dataset = pd.read_csv(file_path)"
   ]
  },
  {
   "cell_type": "code",
   "execution_count": 11,
   "metadata": {},
   "outputs": [],
   "source": [
    "# Select the prognosis (e.g., \"Lyme_disease\")\n",
    "selected_prognosis = \"Lyme_disease\"\n",
    "prognosis_data = dataset[dataset['prognosis'] == selected_prognosis]\n",
    "non_prognosis_data = dataset[dataset['prognosis'] != selected_prognosis]"
   ]
  },
  {
   "cell_type": "code",
   "execution_count": 12,
   "metadata": {},
   "outputs": [],
   "source": [
    "# Symptoms columns\n",
    "symptom_columns = dataset.columns[1:-1]  # Exclude 'id' and 'prognosis' columns"
   ]
  },
  {
   "cell_type": "code",
   "execution_count": 13,
   "metadata": {},
   "outputs": [],
   "source": [
    "# Chi-Square Test for Independence\n",
    "chi_square_results = {}\n",
    "for symptom in symptom_columns:\n",
    "    contingency_table = pd.crosstab(dataset[symptom], dataset['prognosis'] == selected_prognosis)\n",
    "    chi2, p, _, _ = chi2_contingency(contingency_table)\n",
    "    chi_square_results[symptom] = p"
   ]
  },
  {
   "cell_type": "code",
   "execution_count": 14,
   "metadata": {},
   "outputs": [],
   "source": [
    "# Calculate Confidence Intervals for Symptoms Proportion\n",
    "confidence_intervals = {}\n",
    "n = len(prognosis_data)\n",
    "for symptom in symptom_columns:\n",
    "    count = prognosis_data[symptom].sum()\n",
    "    lower, upper = proportion_confint(count, n, alpha=0.05, method='normal')\n",
    "    confidence_intervals[symptom] = (lower, upper)"
   ]
  },
  {
   "cell_type": "code",
   "execution_count": 17,
   "metadata": {},
   "outputs": [
    {
     "name": "stdout",
     "output_type": "stream",
     "text": [
      "Optimization terminated successfully.\n",
      "         Current function value: 0.096957\n",
      "         Iterations 11\n"
     ]
    }
   ],
   "source": [
    "# Logistic Regression\n",
    "X = dataset[symptom_columns]\n",
    "y = (dataset['prognosis'] == selected_prognosis).astype(int)\n",
    "logit_model = sm.Logit(y, sm.add_constant(X))\n",
    "result = logit_model.fit()"
   ]
  },
  {
   "cell_type": "code",
   "execution_count": 18,
   "metadata": {},
   "outputs": [
    {
     "data": {
      "text/plain": [
       "(                     p-value\n",
       " sudden_fever    3.867413e-04\n",
       " headache        8.323053e-03\n",
       " mouth_bleed     1.295252e-02\n",
       " nose_bleed      8.534152e-03\n",
       " muscle_pain     4.568344e-01\n",
       " ...                      ...\n",
       " itchiness       1.000000e+00\n",
       " ulcers          4.025885e-02\n",
       " toenail_loss    7.905138e-01\n",
       " speech_problem  3.218323e-08\n",
       " bullseye_rash   1.127832e-08\n",
       " \n",
       " [64 rows x 1 columns],\n",
       "                 Lower CI  Upper CI\n",
       " sudden_fever    0.632308  0.867692\n",
       " headache        0.503734  0.765496\n",
       " mouth_bleed     0.503734  0.765496\n",
       " nose_bleed      0.545579  0.800574\n",
       " muscle_pain     0.442642  0.711204\n",
       " ...                  ...       ...\n",
       " itchiness       0.055781  0.251911\n",
       " ulcers          0.000000  0.090730\n",
       " toenail_loss    0.028549  0.202220\n",
       " speech_problem  0.070252  0.275902\n",
       " bullseye_rash   0.070252  0.275902\n",
       " \n",
       " [64 rows x 2 columns],\n",
       " <class 'statsmodels.iolib.summary.Summary'>\n",
       " \"\"\"\n",
       "                            Logit Regression Results                           \n",
       " ==============================================================================\n",
       " Dep. Variable:              prognosis   No. Observations:                  707\n",
       " Model:                          Logit   Df Residuals:                      642\n",
       " Method:                           MLE   Df Model:                           64\n",
       " Date:                Sun, 30 Jun 2024   Pseudo R-squ.:                  0.6310\n",
       " Time:                        22:43:15   Log-Likelihood:                -68.549\n",
       " converged:                       True   LL-Null:                       -185.75\n",
       " Covariance Type:            nonrobust   LLR p-value:                 2.847e-21\n",
       " =========================================================================================\n",
       "                             coef    std err          z      P>|z|      [0.025      0.975]\n",
       " -----------------------------------------------------------------------------------------\n",
       " const                   -16.2446      2.543     -6.388      0.000     -21.229     -11.261\n",
       " sudden_fever              2.0755      0.698      2.975      0.003       0.708       3.443\n",
       " headache                  0.0668      0.591      0.113      0.910      -1.092       1.225\n",
       " mouth_bleed              -0.7751      0.665     -1.165      0.244      -2.079       0.528\n",
       " nose_bleed                1.4905      0.640      2.329      0.020       0.236       2.745\n",
       " muscle_pain              -0.4684      0.567     -0.826      0.409      -1.579       0.642\n",
       " joint_pain                1.3213      0.598      2.208      0.027       0.149       2.494\n",
       " vomiting                  0.0266      0.607      0.044      0.965      -1.163       1.216\n",
       " rash                     -0.0783      0.612     -0.128      0.898      -1.277       1.120\n",
       " diarrhea                  1.0980      0.662      1.658      0.097      -0.200       2.396\n",
       " hypotension               0.1985      0.662      0.300      0.764      -1.099       1.496\n",
       " pleural_effusion         -0.2591      0.593     -0.437      0.662      -1.421       0.903\n",
       " ascites                  -0.5475      0.634     -0.863      0.388      -1.791       0.696\n",
       " gastro_bleeding          -0.3885      0.561     -0.692      0.489      -1.488       0.711\n",
       " swelling                 -0.6681      0.659     -1.014      0.310      -1.959       0.623\n",
       " nausea                    2.0189      0.702      2.878      0.004       0.644       3.394\n",
       " chills                    0.0571      0.672      0.085      0.932      -1.261       1.375\n",
       " myalgia                  -0.6999      0.707     -0.990      0.322      -2.085       0.685\n",
       " digestion_trouble         2.3476      0.722      3.253      0.001       0.933       3.762\n",
       " fatigue                   0.8325      0.612      1.359      0.174      -0.368       2.033\n",
       " skin_lesions              0.0808      0.670      0.120      0.904      -1.233       1.395\n",
       " stomach_pain              0.5188      0.671      0.773      0.440      -0.797       1.835\n",
       " orbital_pain             -0.5702      0.668     -0.854      0.393      -1.879       0.739\n",
       " neck_pain                 0.0413      0.704      0.059      0.953      -1.338       1.421\n",
       " weakness                 -0.0750      0.730     -0.103      0.918      -1.505       1.355\n",
       " back_pain                 1.8077      0.685      2.640      0.008       0.466       3.150\n",
       " weight_loss               2.4369      0.762      3.197      0.001       0.943       3.931\n",
       " gum_bleed                 0.5628      0.636      0.885      0.376      -0.684       1.809\n",
       " jaundice                  2.0426      0.738      2.769      0.006       0.597       3.488\n",
       " coma                      0.1889      0.594      0.318      0.751      -0.975       1.353\n",
       " diziness                  0.8174      0.625      1.307      0.191      -0.408       2.043\n",
       " inflammation              2.0250      0.679      2.984      0.003       0.695       3.355\n",
       " red_eyes                  0.1850      0.646      0.287      0.774      -1.080       1.451\n",
       " loss_of_appetite          0.9411      0.648      1.453      0.146      -0.328       2.211\n",
       " urination_loss           -0.1008      0.662     -0.152      0.879      -1.399       1.197\n",
       " slow_heart_rate          -0.3454      0.671     -0.515      0.607      -1.661       0.970\n",
       " abdominal_pain            0.6616      0.707      0.936      0.349      -0.723       2.047\n",
       " light_sensitivity         1.1261      0.738      1.526      0.127      -0.321       2.573\n",
       " yellow_skin               0.0081      0.761      0.011      0.992      -1.484       1.500\n",
       " yellow_eyes               0.0214      0.653      0.033      0.974      -1.258       1.301\n",
       " facial_distortion         0.1341      0.701      0.191      0.848      -1.240       1.509\n",
       " microcephaly              0.9472      0.643      1.474      0.140      -0.312       2.207\n",
       " rigor                    -0.1802      0.705     -0.256      0.798      -1.562       1.201\n",
       " bitter_tongue            -0.0241      0.855     -0.028      0.978      -1.700       1.652\n",
       " convulsion                0.3873      0.736      0.526      0.599      -1.055       1.829\n",
       " anemia                   -1.4587      0.777     -1.876      0.061      -2.982       0.065\n",
       " cocacola_urine           -0.3355      0.744     -0.451      0.652      -1.794       1.123\n",
       " hypoglycemia             -1.9272      0.783     -2.462      0.014      -3.461      -0.393\n",
       " prostraction              1.3746      0.767      1.791      0.073      -0.130       2.879\n",
       " hyperpyrexia             -0.7277      0.816     -0.891      0.373      -2.328       0.872\n",
       " stiff_neck               -0.8213      0.932     -0.881      0.378      -2.648       1.005\n",
       " irritability             -1.7393      0.946     -1.838      0.066      -3.594       0.115\n",
       " confusion                 1.7903      0.973      1.840      0.066      -0.117       3.698\n",
       " tremor                    0.0162      1.023      0.016      0.987      -1.989       2.021\n",
       " paralysis                 1.1899      0.915      1.301      0.193      -0.603       2.983\n",
       " lymph_swells              3.3156      0.937      3.538      0.000       1.479       5.152\n",
       " breathing_restriction     4.1198      2.331      1.767      0.077      -0.449       8.689\n",
       " toe_inflammation         -2.3302      2.716     -0.858      0.391      -7.654       2.993\n",
       " finger_inflammation      -1.7432      2.656     -0.656      0.512      -6.949       3.462\n",
       " lips_irritation          -0.7149      2.630     -0.272      0.786      -5.869       4.439\n",
       " itchiness                 1.4939      1.763      0.847      0.397      -1.962       4.949\n",
       " ulcers                   -4.8738      2.299     -2.120      0.034      -9.379      -0.369\n",
       " toenail_loss             -5.7324      3.062     -1.872      0.061     -11.734       0.269\n",
       " speech_problem            5.9470      2.436      2.441      0.015       1.172      10.722\n",
       " bullseye_rash             2.3480      2.622      0.895      0.371      -2.792       7.488\n",
       " =========================================================================================\n",
       " \n",
       " Possibly complete quasi-separation: A fraction 0.45 of observations can be\n",
       " perfectly predicted. This might indicate that there is complete\n",
       " quasi-separation. In this case some parameters will not be identified.\n",
       " \"\"\")"
      ]
     },
     "execution_count": 18,
     "metadata": {},
     "output_type": "execute_result"
    }
   ],
   "source": [
    "# Display results\n",
    "chi_square_results_df = pd.DataFrame.from_dict(chi_square_results, orient='index', columns=['p-value'])\n",
    "confidence_intervals_df = pd.DataFrame.from_dict(confidence_intervals, orient='index', columns=['Lower CI', 'Upper CI'])\n",
    "logit_summary = result.summary()\n",
    "\n",
    "chi_square_results_df, confidence_intervals_df, logit_summary"
   ]
  }
 ],
 "metadata": {
  "kernelspec": {
   "display_name": "base",
   "language": "python",
   "name": "python3"
  },
  "language_info": {
   "codemirror_mode": {
    "name": "ipython",
    "version": 3
   },
   "file_extension": ".py",
   "mimetype": "text/x-python",
   "name": "python",
   "nbconvert_exporter": "python",
   "pygments_lexer": "ipython3",
   "version": "3.8.19"
  }
 },
 "nbformat": 4,
 "nbformat_minor": 2
}
